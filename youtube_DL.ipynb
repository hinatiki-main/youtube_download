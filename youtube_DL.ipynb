{
  "nbformat": 4,
  "nbformat_minor": 0,
  "metadata": {
    "colab": {
      "provenance": [],
      "authorship_tag": "ABX9TyNYORt+g4q+atcx9+asKPuh",
      "include_colab_link": true
    },
    "kernelspec": {
      "name": "python3",
      "display_name": "Python 3"
    },
    "language_info": {
      "name": "python"
    }
  },
  "cells": [
    {
      "cell_type": "markdown",
      "metadata": {
        "id": "view-in-github",
        "colab_type": "text"
      },
      "source": [
        "<a href=\"https://colab.research.google.com/github/hinatiki-main/youtube_download/blob/main/youtube_DL.ipynb\" target=\"_parent\"><img src=\"https://colab.research.google.com/assets/colab-badge.svg\" alt=\"Open In Colab\"/></a>"
      ]
    },
    {
      "cell_type": "code",
      "execution_count": null,
      "metadata": {
        "id": "PDboZzySQFIW"
      },
      "outputs": [],
      "source": [
        "#@title ##**①必要なソフトのインストール** { display-mode: \"form\" }\n",
        "!pip install yt_dlp\n",
        "import yt_dlp\n",
        "from google.colab import files"
      ]
    },
    {
      "cell_type": "code",
      "source": [
        "#@title ##**②動画ファイルを読み込む** { display-mode: \"form\" }\n",
        "#@markdown ダウンロードしたい動画のURLを貼ろう！(YouTube,Twitterなど)\n",
        "source_url = '' #@param {type:\"string\"}\n",
        "#@markdown 始めの時間を入力してください 書き方の例：1分20秒の場合→1:20\n",
        "firsttime = '' #@param {type:\"string\"}\n",
        "#@markdown 終わりの時間を入力してください\n",
        "secondtime = '' #@param {type:\"string\"}\n",
        "\n",
        "ydl_opts = {\n",
        "    'format': 'bestvideo[ext=mp4]+bestaudio[ext=m4a]/best[ext=mp4]',\n",
        "    'outtmpl': '%(title)s.mp4',\n",
        "    'preferredcodec': 'mp4',\n",
        "    'postprocessor_args': [\n",
        "        '-ss', firsttime,\n",
        "        '-to', secondtime,\n",
        "        '-c', 'copy'\n",
        "    ]\n",
        "}\n",
        "\n",
        "with yt_dlp.YoutubeDL(ydl_opts) as ydl:\n",
        "    info = ydl.extract_info(source_url, download=False)\n",
        "    filename = ydl.prepare_filename(info)\n",
        "    ydl.download([source_url])\n",
        "\n",
        "print(f\"Downloaded to: {filename}\")\n",
        "\n",
        "filename = str(filename)\n",
        "files.download(filename)\n",
        "!rm {filename}"
      ],
      "metadata": {
        "id": "Ao7gKWgWQdEl"
      },
      "execution_count": null,
      "outputs": []
    }
  ]
}